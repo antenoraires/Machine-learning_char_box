{
  "nbformat": 4,
  "nbformat_minor": 0,
  "metadata": {
    "colab": {
      "name": "ChatBox.ipynb",
      "provenance": [],
      "mount_file_id": "1iwbFr2DHwksu7_cD5b5AP2f6VwfC_hCb",
      "authorship_tag": "ABX9TyPEYbgtavi1ST/rXUTP63W+",
      "include_colab_link": true
    },
    "kernelspec": {
      "name": "python3",
      "display_name": "Python 3"
    },
    "language_info": {
      "name": "python"
    }
  },
  "cells": [
    {
      "cell_type": "markdown",
      "metadata": {
        "id": "view-in-github",
        "colab_type": "text"
      },
      "source": [
        "<a href=\"https://colab.research.google.com/github/antifa157/Maxhine-leraning/blob/main/ChatBox.ipynb\" target=\"_parent\"><img src=\"https://colab.research.google.com/assets/colab-badge.svg\" alt=\"Open In Colab\"/></a>"
      ]
    },
    {
      "cell_type": "code",
      "metadata": {
        "id": "yIpn2QRqa2w6",
        "colab": {
          "base_uri": "https://localhost:8080/"
        },
        "outputId": "09c6a7f2-4027-4af0-b366-8f6b11576176"
      },
      "source": [
        "!pip install tensorflow\n",
        "!pip install keras pickle nltk #biblioteca de deep learning\n",
        "from keras import optimizers"
      ],
      "execution_count": 1,
      "outputs": [
        {
          "output_type": "stream",
          "name": "stdout",
          "text": [
            "Requirement already satisfied: tensorflow in /usr/local/lib/python3.7/dist-packages (2.6.0)\n",
            "Requirement already satisfied: absl-py~=0.10 in /usr/local/lib/python3.7/dist-packages (from tensorflow) (0.12.0)\n",
            "Requirement already satisfied: h5py~=3.1.0 in /usr/local/lib/python3.7/dist-packages (from tensorflow) (3.1.0)\n",
            "Requirement already satisfied: termcolor~=1.1.0 in /usr/local/lib/python3.7/dist-packages (from tensorflow) (1.1.0)\n",
            "Requirement already satisfied: gast==0.4.0 in /usr/local/lib/python3.7/dist-packages (from tensorflow) (0.4.0)\n",
            "Requirement already satisfied: keras-preprocessing~=1.1.2 in /usr/local/lib/python3.7/dist-packages (from tensorflow) (1.1.2)\n",
            "Requirement already satisfied: google-pasta~=0.2 in /usr/local/lib/python3.7/dist-packages (from tensorflow) (0.2.0)\n",
            "Requirement already satisfied: protobuf>=3.9.2 in /usr/local/lib/python3.7/dist-packages (from tensorflow) (3.17.3)\n",
            "Requirement already satisfied: numpy~=1.19.2 in /usr/local/lib/python3.7/dist-packages (from tensorflow) (1.19.5)\n",
            "Requirement already satisfied: clang~=5.0 in /usr/local/lib/python3.7/dist-packages (from tensorflow) (5.0)\n",
            "Requirement already satisfied: keras~=2.6 in /usr/local/lib/python3.7/dist-packages (from tensorflow) (2.6.0)\n",
            "Requirement already satisfied: astunparse~=1.6.3 in /usr/local/lib/python3.7/dist-packages (from tensorflow) (1.6.3)\n",
            "Requirement already satisfied: wrapt~=1.12.1 in /usr/local/lib/python3.7/dist-packages (from tensorflow) (1.12.1)\n",
            "Requirement already satisfied: grpcio<2.0,>=1.37.0 in /usr/local/lib/python3.7/dist-packages (from tensorflow) (1.41.0)\n",
            "Requirement already satisfied: tensorboard~=2.6 in /usr/local/lib/python3.7/dist-packages (from tensorflow) (2.6.0)\n",
            "Requirement already satisfied: tensorflow-estimator~=2.6 in /usr/local/lib/python3.7/dist-packages (from tensorflow) (2.6.0)\n",
            "Requirement already satisfied: six~=1.15.0 in /usr/local/lib/python3.7/dist-packages (from tensorflow) (1.15.0)\n",
            "Requirement already satisfied: flatbuffers~=1.12.0 in /usr/local/lib/python3.7/dist-packages (from tensorflow) (1.12)\n",
            "Requirement already satisfied: opt-einsum~=3.3.0 in /usr/local/lib/python3.7/dist-packages (from tensorflow) (3.3.0)\n",
            "Requirement already satisfied: typing-extensions~=3.7.4 in /usr/local/lib/python3.7/dist-packages (from tensorflow) (3.7.4.3)\n",
            "Requirement already satisfied: wheel~=0.35 in /usr/local/lib/python3.7/dist-packages (from tensorflow) (0.37.0)\n",
            "Requirement already satisfied: cached-property in /usr/local/lib/python3.7/dist-packages (from h5py~=3.1.0->tensorflow) (1.5.2)\n",
            "Requirement already satisfied: google-auth<2,>=1.6.3 in /usr/local/lib/python3.7/dist-packages (from tensorboard~=2.6->tensorflow) (1.35.0)\n",
            "Requirement already satisfied: tensorboard-plugin-wit>=1.6.0 in /usr/local/lib/python3.7/dist-packages (from tensorboard~=2.6->tensorflow) (1.8.0)\n",
            "Requirement already satisfied: google-auth-oauthlib<0.5,>=0.4.1 in /usr/local/lib/python3.7/dist-packages (from tensorboard~=2.6->tensorflow) (0.4.6)\n",
            "Requirement already satisfied: markdown>=2.6.8 in /usr/local/lib/python3.7/dist-packages (from tensorboard~=2.6->tensorflow) (3.3.4)\n",
            "Requirement already satisfied: werkzeug>=0.11.15 in /usr/local/lib/python3.7/dist-packages (from tensorboard~=2.6->tensorflow) (1.0.1)\n",
            "Requirement already satisfied: tensorboard-data-server<0.7.0,>=0.6.0 in /usr/local/lib/python3.7/dist-packages (from tensorboard~=2.6->tensorflow) (0.6.1)\n",
            "Requirement already satisfied: setuptools>=41.0.0 in /usr/local/lib/python3.7/dist-packages (from tensorboard~=2.6->tensorflow) (57.4.0)\n",
            "Requirement already satisfied: requests<3,>=2.21.0 in /usr/local/lib/python3.7/dist-packages (from tensorboard~=2.6->tensorflow) (2.23.0)\n",
            "Requirement already satisfied: rsa<5,>=3.1.4 in /usr/local/lib/python3.7/dist-packages (from google-auth<2,>=1.6.3->tensorboard~=2.6->tensorflow) (4.7.2)\n",
            "Requirement already satisfied: cachetools<5.0,>=2.0.0 in /usr/local/lib/python3.7/dist-packages (from google-auth<2,>=1.6.3->tensorboard~=2.6->tensorflow) (4.2.4)\n",
            "Requirement already satisfied: pyasn1-modules>=0.2.1 in /usr/local/lib/python3.7/dist-packages (from google-auth<2,>=1.6.3->tensorboard~=2.6->tensorflow) (0.2.8)\n",
            "Requirement already satisfied: requests-oauthlib>=0.7.0 in /usr/local/lib/python3.7/dist-packages (from google-auth-oauthlib<0.5,>=0.4.1->tensorboard~=2.6->tensorflow) (1.3.0)\n",
            "Requirement already satisfied: importlib-metadata in /usr/local/lib/python3.7/dist-packages (from markdown>=2.6.8->tensorboard~=2.6->tensorflow) (4.8.1)\n",
            "Requirement already satisfied: pyasn1<0.5.0,>=0.4.6 in /usr/local/lib/python3.7/dist-packages (from pyasn1-modules>=0.2.1->google-auth<2,>=1.6.3->tensorboard~=2.6->tensorflow) (0.4.8)\n",
            "Requirement already satisfied: idna<3,>=2.5 in /usr/local/lib/python3.7/dist-packages (from requests<3,>=2.21.0->tensorboard~=2.6->tensorflow) (2.10)\n",
            "Requirement already satisfied: chardet<4,>=3.0.2 in /usr/local/lib/python3.7/dist-packages (from requests<3,>=2.21.0->tensorboard~=2.6->tensorflow) (3.0.4)\n",
            "Requirement already satisfied: urllib3!=1.25.0,!=1.25.1,<1.26,>=1.21.1 in /usr/local/lib/python3.7/dist-packages (from requests<3,>=2.21.0->tensorboard~=2.6->tensorflow) (1.24.3)\n",
            "Requirement already satisfied: certifi>=2017.4.17 in /usr/local/lib/python3.7/dist-packages (from requests<3,>=2.21.0->tensorboard~=2.6->tensorflow) (2021.5.30)\n",
            "Requirement already satisfied: oauthlib>=3.0.0 in /usr/local/lib/python3.7/dist-packages (from requests-oauthlib>=0.7.0->google-auth-oauthlib<0.5,>=0.4.1->tensorboard~=2.6->tensorflow) (3.1.1)\n",
            "Requirement already satisfied: zipp>=0.5 in /usr/local/lib/python3.7/dist-packages (from importlib-metadata->markdown>=2.6.8->tensorboard~=2.6->tensorflow) (3.6.0)\n",
            "Requirement already satisfied: keras in /usr/local/lib/python3.7/dist-packages (2.6.0)\n",
            "\u001b[31mERROR: Could not find a version that satisfies the requirement pickle (from versions: none)\u001b[0m\n",
            "\u001b[31mERROR: No matching distribution found for pickle\u001b[0m\n"
          ]
        }
      ]
    },
    {
      "cell_type": "code",
      "metadata": {
        "colab": {
          "base_uri": "https://localhost:8080/"
        },
        "id": "7k5S2ieAfhDh",
        "outputId": "c5f725fb-9fcb-4ee5-e770-62a160620546"
      },
      "source": [
        "from google.colab import drive\n",
        "drive.mount('/content/drive')"
      ],
      "execution_count": 2,
      "outputs": [
        {
          "output_type": "stream",
          "name": "stdout",
          "text": [
            "Drive already mounted at /content/drive; to attempt to forcibly remount, call drive.mount(\"/content/drive\", force_remount=True).\n"
          ]
        }
      ]
    },
    {
      "cell_type": "markdown",
      "metadata": {
        "id": "eYEG3vBYgOAw"
      },
      "source": [
        "importando as bibliotecas "
      ]
    },
    {
      "cell_type": "code",
      "metadata": {
        "colab": {
          "base_uri": "https://localhost:8080/"
        },
        "id": "sUC1dbJja6hM",
        "outputId": "52279c4b-7f3f-4b59-9f09-cd7e394c3a33"
      },
      "source": [
        "import numpy as np\n",
        "from keras.models import Sequential\n",
        "from keras.layers import Dense, Activation, Dropout\n",
        "from tensorflow.keras.optimizers import SGD\n",
        "\n",
        "import random\n",
        "import nltk\n",
        "from nltk.stem import WordNetLemmatizer\n",
        "lemmatizer = WordNetLemmatizer()\n",
        "import json\n",
        "import pickle\n",
        "import time\n",
        "\n",
        "nltk.download('punkt')\n",
        "nltk.download('wordnet')\n",
        "\n",
        "\n",
        "intents_file =open('/content/drive/MyDrive/intents.json').read()\n",
        "intents=json.loads(intents_file)"
      ],
      "execution_count": 3,
      "outputs": [
        {
          "output_type": "stream",
          "name": "stdout",
          "text": [
            "[nltk_data] Downloading package punkt to /root/nltk_data...\n",
            "[nltk_data]   Unzipping tokenizers/punkt.zip.\n",
            "[nltk_data] Downloading package wordnet to /root/nltk_data...\n",
            "[nltk_data]   Unzipping corpora/wordnet.zip.\n"
          ]
        }
      ]
    },
    {
      "cell_type": "code",
      "metadata": {
        "colab": {
          "base_uri": "https://localhost:8080/"
        },
        "id": "pSl-_v0cgEqZ",
        "outputId": "2c4e613a-5248-4bed-cb7a-9df627c3bf76"
      },
      "source": [
        "time.sleep(1)\n",
        "words=[]\n",
        "classes = []\n",
        "documents = []\n",
        "ignore_letters = ['!', '?', ',', '.']\n",
        "for intent in intents['intents']:\n",
        "    for pattern in intent['patterns']:\n",
        "        #tokenize each word\n",
        "        word = nltk.word_tokenize(pattern)\n",
        "        words.extend(word)        \n",
        "        #add documents in the corpus\n",
        "        documents.append((word, intent['tag']))\n",
        "        # add to our classes list\n",
        "        if intent['tag'] not in classes:\n",
        "            classes.append(intent['tag'])\n",
        "print(documents)"
      ],
      "execution_count": 4,
      "outputs": [
        {
          "output_type": "stream",
          "name": "stdout",
          "text": [
            "[(['Hi', 'there'], 'greeting'), (['How', 'are', 'you'], 'greeting'), (['Is', 'anyone', 'there', '?'], 'greeting'), (['Hey'], 'greeting'), (['Hola'], 'greeting'), (['Hello'], 'greeting'), (['Good', 'day'], 'greeting'), (['Bye'], 'goodbye'), (['See', 'you', 'later'], 'goodbye'), (['Goodbye'], 'goodbye'), (['Nice', 'chatting', 'to', 'you', ',', 'bye'], 'goodbye'), (['Till', 'next', 'time'], 'goodbye'), (['Thanks'], 'thanks'), (['Thank', 'you'], 'thanks'), (['That', \"'s\", 'helpful'], 'thanks'), (['Awesome', ',', 'thanks'], 'thanks'), (['Thanks', 'for', 'helping', 'me'], 'thanks'), (['How', 'you', 'could', 'help', 'me', '?'], 'options'), (['What', 'you', 'can', 'do', '?'], 'options'), (['What', 'help', 'you', 'provide', '?'], 'options'), (['How', 'you', 'can', 'be', 'helpful', '?'], 'options'), (['What', 'support', 'is', 'offered'], 'options'), (['How', 'to', 'check', 'Adverse', 'drug', 'reaction', '?'], 'adverse_drug'), (['Open', 'adverse', 'drugs', 'module'], 'adverse_drug'), (['Give', 'me', 'a', 'list', 'of', 'drugs', 'causing', 'adverse', 'behavior'], 'adverse_drug'), (['List', 'all', 'drugs', 'suitable', 'for', 'patient', 'with', 'adverse', 'reaction'], 'adverse_drug'), (['Which', 'drugs', 'dont', 'have', 'adverse', 'reaction', '?'], 'adverse_drug'), (['Open', 'blood', 'pressure', 'module'], 'blood_pressure'), (['Task', 'related', 'to', 'blood', 'pressure'], 'blood_pressure'), (['Blood', 'pressure', 'data', 'entry'], 'blood_pressure'), (['I', 'want', 'to', 'log', 'blood', 'pressure', 'results'], 'blood_pressure'), (['Blood', 'pressure', 'data', 'management'], 'blood_pressure'), (['I', 'want', 'to', 'search', 'for', 'blood', 'pressure', 'result', 'history'], 'blood_pressure_search'), (['Blood', 'pressure', 'for', 'patient'], 'blood_pressure_search'), (['Load', 'patient', 'blood', 'pressure', 'result'], 'blood_pressure_search'), (['Show', 'blood', 'pressure', 'results', 'for', 'patient'], 'blood_pressure_search'), (['Find', 'blood', 'pressure', 'results', 'by', 'ID'], 'blood_pressure_search'), (['Find', 'me', 'a', 'pharmacy'], 'pharmacy_search'), (['Find', 'pharmacy'], 'pharmacy_search'), (['List', 'of', 'pharmacies', 'nearby'], 'pharmacy_search'), (['Locate', 'pharmacy'], 'pharmacy_search'), (['Search', 'pharmacy'], 'pharmacy_search'), (['Lookup', 'for', 'hospital'], 'hospital_search'), (['Searching', 'for', 'hospital', 'to', 'transfer', 'patient'], 'hospital_search'), (['I', 'want', 'to', 'search', 'hospital', 'data'], 'hospital_search'), (['Hospital', 'lookup', 'for', 'patient'], 'hospital_search'), (['Looking', 'up', 'hospital', 'details'], 'hospital_search')]\n"
          ]
        }
      ]
    },
    {
      "cell_type": "code",
      "metadata": {
        "colab": {
          "base_uri": "https://localhost:8080/"
        },
        "id": "dRtOPbk0gxXi",
        "outputId": "e32c5eb4-75ce-47e9-a45f-cc6cc1bc95ef"
      },
      "source": [
        "time.sleep(1)\n",
        "# lemmaztize and lower each word and remove duplicates\n",
        "words = [lemmatizer.lemmatize(w.lower()) for w in words if w not in ignore_letters]\n",
        "words = sorted(list(set(words)))\n",
        "# sort classes\n",
        "classes = sorted(list(set(classes)))\n",
        "# documents = combination between patterns and intents\n",
        "print(len(documents), \"documents\")\n",
        "# classes = intents\n",
        "print(len(classes), \"classes\", classes)\n",
        "# words = all words, vocabulary\n",
        "print(len(words), \"unique lemmatized words\", words)\n",
        "\n",
        "pickle.dump(words,open('words.pkl','wb'))\n",
        "pickle.dump(classes,open('classes.pkl','wb'))\n",
        "\n",
        "\n"
      ],
      "execution_count": 5,
      "outputs": [
        {
          "output_type": "stream",
          "name": "stdout",
          "text": [
            "47 documents\n",
            "9 classes ['adverse_drug', 'blood_pressure', 'blood_pressure_search', 'goodbye', 'greeting', 'hospital_search', 'options', 'pharmacy_search', 'thanks']\n",
            "87 unique lemmatized words [\"'s\", 'a', 'adverse', 'all', 'anyone', 'are', 'awesome', 'be', 'behavior', 'blood', 'by', 'bye', 'can', 'causing', 'chatting', 'check', 'could', 'data', 'day', 'detail', 'do', 'dont', 'drug', 'entry', 'find', 'for', 'give', 'good', 'goodbye', 'have', 'hello', 'help', 'helpful', 'helping', 'hey', 'hi', 'history', 'hola', 'hospital', 'how', 'i', 'id', 'is', 'later', 'list', 'load', 'locate', 'log', 'looking', 'lookup', 'management', 'me', 'module', 'nearby', 'next', 'nice', 'of', 'offered', 'open', 'patient', 'pharmacy', 'pressure', 'provide', 'reaction', 'related', 'result', 'search', 'searching', 'see', 'show', 'suitable', 'support', 'task', 'thank', 'thanks', 'that', 'there', 'till', 'time', 'to', 'transfer', 'up', 'want', 'what', 'which', 'with', 'you']\n"
          ]
        }
      ]
    },
    {
      "cell_type": "markdown",
      "metadata": {
        "id": "BwzI90lcpZKf"
      },
      "source": [
        "Treino da rede"
      ]
    },
    {
      "cell_type": "code",
      "metadata": {
        "colab": {
          "base_uri": "https://localhost:8080/"
        },
        "id": "qW5mVGPPhWBQ",
        "outputId": "433430d5-e7c1-439e-b2bc-3778ae6e42a5"
      },
      "source": [
        "time.sleep(1)\n",
        "# create the training data\n",
        "training = []\n",
        "# create empty array for the output\n",
        "output_empty = [0] * len(classes)\n",
        "# training set, bag of words for every sentence\n",
        "for doc in documents:\n",
        "    # initializing bag of words\n",
        "    bag = []\n",
        "    # list of tokenized words for the pattern\n",
        "    word_patterns = doc[0]\n",
        "    # lemmatize each word - create base word, in attempt to represent related words\n",
        "    word_patterns = [lemmatizer.lemmatize(word.lower()) for word in word_patterns]\n",
        "    # create the bag of words array with 1, if word is found in current pattern\n",
        "    for word in words:\n",
        "        bag.append(1) if word in word_patterns else bag.append(0)\n",
        "    # output is a '0' for each tag and '1' for current tag (for each pattern)\n",
        "    output_row = list(output_empty)\n",
        "    output_row[classes.index(doc[1])] = 1\n",
        "    training.append([bag, output_row])\n",
        "# shuffle the features and make numpy array\n",
        "random.shuffle(training)\n",
        "training = np.array(training)\n",
        "# create training and testing lists. X - patterns, Y - intents\n",
        "train_x = list(training[:,0])\n",
        "train_y = list(training[:,1])\n",
        "print(\"Training data is created\")"
      ],
      "execution_count": 6,
      "outputs": [
        {
          "output_type": "stream",
          "name": "stdout",
          "text": [
            "Training data is created\n"
          ]
        },
        {
          "output_type": "stream",
          "name": "stderr",
          "text": [
            "/usr/local/lib/python3.7/dist-packages/ipykernel_launcher.py:23: VisibleDeprecationWarning: Creating an ndarray from ragged nested sequences (which is a list-or-tuple of lists-or-tuples-or ndarrays with different lengths or shapes) is deprecated. If you meant to do this, you must specify 'dtype=object' when creating the ndarray\n"
          ]
        }
      ]
    },
    {
      "cell_type": "markdown",
      "metadata": {
        "id": "E_GaQQ1PpohX"
      },
      "source": [
        "Teste Modelo\n"
      ]
    },
    {
      "cell_type": "code",
      "metadata": {
        "colab": {
          "base_uri": "https://localhost:8080/"
        },
        "id": "jyCjIMmuhWEW",
        "outputId": "46587ce5-405b-4513-935a-b7cdd1ed2e65"
      },
      "source": [
        "time.sleep(1)\n",
        "# deep neural networds model\n",
        "model = Sequential()\n",
        "model.add(Dense(128, input_shape=(len(train_x[0]),), activation='relu'))\n",
        "model.add(Dropout(0.5))\n",
        "model.add(Dense(64, activation='relu'))\n",
        "model.add(Dropout(0.5))\n",
        "model.add(Dense(len(train_y[0]), activation='softmax'))\n",
        "# Compiling model. SGD with Nesterov accelerated gradient gives good results for this model\n",
        "sgd = SGD(lr=0.01, decay=1e-6, momentum=0.9, nesterov=True)\n",
        "model.compile(loss='categorical_crossentropy', optimizer=sgd, metrics=['accuracy'])\n",
        "#Training and saving the model \n",
        "hist = model.fit(np.array(train_x), np.array(train_y), epochs=200, batch_size=5, verbose=1)\n",
        "model.save('chatbot_model.h5', hist)\n",
        "\n",
        "print(\"model is created\")"
      ],
      "execution_count": 7,
      "outputs": [
        {
          "output_type": "stream",
          "name": "stderr",
          "text": [
            "/usr/local/lib/python3.7/dist-packages/keras/optimizer_v2/optimizer_v2.py:356: UserWarning: The `lr` argument is deprecated, use `learning_rate` instead.\n",
            "  \"The `lr` argument is deprecated, use `learning_rate` instead.\")\n"
          ]
        },
        {
          "output_type": "stream",
          "name": "stdout",
          "text": [
            "Epoch 1/200\n",
            "10/10 [==============================] - 1s 2ms/step - loss: 2.2326 - accuracy: 0.0851\n",
            "Epoch 2/200\n",
            "10/10 [==============================] - 0s 2ms/step - loss: 2.2460 - accuracy: 0.0638\n",
            "Epoch 3/200\n",
            "10/10 [==============================] - 0s 3ms/step - loss: 2.1388 - accuracy: 0.1915\n",
            "Epoch 4/200\n",
            "10/10 [==============================] - 0s 2ms/step - loss: 2.0464 - accuracy: 0.2979\n",
            "Epoch 5/200\n",
            "10/10 [==============================] - 0s 2ms/step - loss: 1.8976 - accuracy: 0.4468\n",
            "Epoch 6/200\n",
            "10/10 [==============================] - 0s 2ms/step - loss: 1.7931 - accuracy: 0.4468\n",
            "Epoch 7/200\n",
            "10/10 [==============================] - 0s 2ms/step - loss: 1.6974 - accuracy: 0.4468\n",
            "Epoch 8/200\n",
            "10/10 [==============================] - 0s 4ms/step - loss: 1.5990 - accuracy: 0.6170\n",
            "Epoch 9/200\n",
            "10/10 [==============================] - 0s 4ms/step - loss: 1.4455 - accuracy: 0.6383\n",
            "Epoch 10/200\n",
            "10/10 [==============================] - 0s 2ms/step - loss: 1.3050 - accuracy: 0.6596\n",
            "Epoch 11/200\n",
            "10/10 [==============================] - 0s 3ms/step - loss: 1.3640 - accuracy: 0.5957\n",
            "Epoch 12/200\n",
            "10/10 [==============================] - 0s 4ms/step - loss: 1.1471 - accuracy: 0.6809\n",
            "Epoch 13/200\n",
            "10/10 [==============================] - 0s 3ms/step - loss: 1.0208 - accuracy: 0.7234\n",
            "Epoch 14/200\n",
            "10/10 [==============================] - 0s 3ms/step - loss: 0.9080 - accuracy: 0.7872\n",
            "Epoch 15/200\n",
            "10/10 [==============================] - 0s 2ms/step - loss: 0.7961 - accuracy: 0.8085\n",
            "Epoch 16/200\n",
            "10/10 [==============================] - 0s 3ms/step - loss: 0.7955 - accuracy: 0.8298\n",
            "Epoch 17/200\n",
            "10/10 [==============================] - 0s 2ms/step - loss: 0.5667 - accuracy: 0.8936\n",
            "Epoch 18/200\n",
            "10/10 [==============================] - 0s 2ms/step - loss: 0.5870 - accuracy: 0.8511\n",
            "Epoch 19/200\n",
            "10/10 [==============================] - 0s 2ms/step - loss: 0.5094 - accuracy: 0.8936\n",
            "Epoch 20/200\n",
            "10/10 [==============================] - 0s 2ms/step - loss: 0.4319 - accuracy: 0.9362\n",
            "Epoch 21/200\n",
            "10/10 [==============================] - 0s 2ms/step - loss: 0.4821 - accuracy: 0.8936\n",
            "Epoch 22/200\n",
            "10/10 [==============================] - 0s 2ms/step - loss: 0.4589 - accuracy: 0.8511\n",
            "Epoch 23/200\n",
            "10/10 [==============================] - 0s 2ms/step - loss: 0.5320 - accuracy: 0.8085\n",
            "Epoch 24/200\n",
            "10/10 [==============================] - 0s 2ms/step - loss: 0.4999 - accuracy: 0.8511\n",
            "Epoch 25/200\n",
            "10/10 [==============================] - 0s 2ms/step - loss: 0.5599 - accuracy: 0.8936\n",
            "Epoch 26/200\n",
            "10/10 [==============================] - 0s 2ms/step - loss: 0.3113 - accuracy: 0.9149\n",
            "Epoch 27/200\n",
            "10/10 [==============================] - 0s 2ms/step - loss: 0.3429 - accuracy: 0.9149\n",
            "Epoch 28/200\n",
            "10/10 [==============================] - 0s 2ms/step - loss: 0.2922 - accuracy: 0.9149\n",
            "Epoch 29/200\n",
            "10/10 [==============================] - 0s 2ms/step - loss: 0.2596 - accuracy: 0.9574\n",
            "Epoch 30/200\n",
            "10/10 [==============================] - 0s 2ms/step - loss: 0.2640 - accuracy: 0.9787\n",
            "Epoch 31/200\n",
            "10/10 [==============================] - 0s 3ms/step - loss: 0.3001 - accuracy: 0.9149\n",
            "Epoch 32/200\n",
            "10/10 [==============================] - 0s 3ms/step - loss: 0.2957 - accuracy: 0.9149\n",
            "Epoch 33/200\n",
            "10/10 [==============================] - 0s 3ms/step - loss: 0.2743 - accuracy: 0.8936\n",
            "Epoch 34/200\n",
            "10/10 [==============================] - 0s 2ms/step - loss: 0.2681 - accuracy: 0.8936\n",
            "Epoch 35/200\n",
            "10/10 [==============================] - 0s 3ms/step - loss: 0.1855 - accuracy: 0.9574\n",
            "Epoch 36/200\n",
            "10/10 [==============================] - 0s 2ms/step - loss: 0.1483 - accuracy: 0.9787\n",
            "Epoch 37/200\n",
            "10/10 [==============================] - 0s 3ms/step - loss: 0.2355 - accuracy: 0.9574\n",
            "Epoch 38/200\n",
            "10/10 [==============================] - 0s 2ms/step - loss: 0.1573 - accuracy: 0.9787\n",
            "Epoch 39/200\n",
            "10/10 [==============================] - 0s 3ms/step - loss: 0.1725 - accuracy: 0.9149\n",
            "Epoch 40/200\n",
            "10/10 [==============================] - 0s 3ms/step - loss: 0.1464 - accuracy: 0.9574\n",
            "Epoch 41/200\n",
            "10/10 [==============================] - 0s 3ms/step - loss: 0.2253 - accuracy: 0.9787\n",
            "Epoch 42/200\n",
            "10/10 [==============================] - 0s 3ms/step - loss: 0.1619 - accuracy: 0.9787\n",
            "Epoch 43/200\n",
            "10/10 [==============================] - 0s 2ms/step - loss: 0.2467 - accuracy: 0.9149\n",
            "Epoch 44/200\n",
            "10/10 [==============================] - 0s 3ms/step - loss: 0.1257 - accuracy: 0.9787\n",
            "Epoch 45/200\n",
            "10/10 [==============================] - 0s 3ms/step - loss: 0.1367 - accuracy: 0.9787\n",
            "Epoch 46/200\n",
            "10/10 [==============================] - 0s 3ms/step - loss: 0.0684 - accuracy: 1.0000\n",
            "Epoch 47/200\n",
            "10/10 [==============================] - 0s 3ms/step - loss: 0.0965 - accuracy: 1.0000\n",
            "Epoch 48/200\n",
            "10/10 [==============================] - 0s 3ms/step - loss: 0.2184 - accuracy: 0.9149\n",
            "Epoch 49/200\n",
            "10/10 [==============================] - 0s 2ms/step - loss: 0.1592 - accuracy: 0.9787\n",
            "Epoch 50/200\n",
            "10/10 [==============================] - 0s 2ms/step - loss: 0.0484 - accuracy: 1.0000\n",
            "Epoch 51/200\n",
            "10/10 [==============================] - 0s 2ms/step - loss: 0.1258 - accuracy: 0.9574\n",
            "Epoch 52/200\n",
            "10/10 [==============================] - 0s 2ms/step - loss: 0.0854 - accuracy: 0.9787\n",
            "Epoch 53/200\n",
            "10/10 [==============================] - 0s 2ms/step - loss: 0.0661 - accuracy: 1.0000\n",
            "Epoch 54/200\n",
            "10/10 [==============================] - 0s 2ms/step - loss: 0.1723 - accuracy: 0.9574\n",
            "Epoch 55/200\n",
            "10/10 [==============================] - 0s 3ms/step - loss: 0.1918 - accuracy: 0.9362\n",
            "Epoch 56/200\n",
            "10/10 [==============================] - 0s 2ms/step - loss: 0.1214 - accuracy: 0.9574\n",
            "Epoch 57/200\n",
            "10/10 [==============================] - 0s 2ms/step - loss: 0.0896 - accuracy: 1.0000\n",
            "Epoch 58/200\n",
            "10/10 [==============================] - 0s 2ms/step - loss: 0.1071 - accuracy: 0.9574\n",
            "Epoch 59/200\n",
            "10/10 [==============================] - 0s 2ms/step - loss: 0.1067 - accuracy: 0.9787\n",
            "Epoch 60/200\n",
            "10/10 [==============================] - 0s 2ms/step - loss: 0.0833 - accuracy: 1.0000\n",
            "Epoch 61/200\n",
            "10/10 [==============================] - 0s 2ms/step - loss: 0.1220 - accuracy: 0.9574\n",
            "Epoch 62/200\n",
            "10/10 [==============================] - 0s 2ms/step - loss: 0.1956 - accuracy: 0.9362\n",
            "Epoch 63/200\n",
            "10/10 [==============================] - 0s 2ms/step - loss: 0.0500 - accuracy: 1.0000\n",
            "Epoch 64/200\n",
            "10/10 [==============================] - 0s 2ms/step - loss: 0.0966 - accuracy: 0.9787\n",
            "Epoch 65/200\n",
            "10/10 [==============================] - 0s 3ms/step - loss: 0.0949 - accuracy: 1.0000\n",
            "Epoch 66/200\n",
            "10/10 [==============================] - 0s 3ms/step - loss: 0.1000 - accuracy: 0.9787\n",
            "Epoch 67/200\n",
            "10/10 [==============================] - 0s 2ms/step - loss: 0.1454 - accuracy: 0.9149\n",
            "Epoch 68/200\n",
            "10/10 [==============================] - 0s 3ms/step - loss: 0.1297 - accuracy: 0.9362\n",
            "Epoch 69/200\n",
            "10/10 [==============================] - 0s 2ms/step - loss: 0.1107 - accuracy: 0.9787\n",
            "Epoch 70/200\n",
            "10/10 [==============================] - 0s 2ms/step - loss: 0.0513 - accuracy: 1.0000\n",
            "Epoch 71/200\n",
            "10/10 [==============================] - 0s 3ms/step - loss: 0.0701 - accuracy: 0.9787\n",
            "Epoch 72/200\n",
            "10/10 [==============================] - 0s 2ms/step - loss: 0.0413 - accuracy: 1.0000\n",
            "Epoch 73/200\n",
            "10/10 [==============================] - 0s 4ms/step - loss: 0.0345 - accuracy: 1.0000\n",
            "Epoch 74/200\n",
            "10/10 [==============================] - 0s 2ms/step - loss: 0.0593 - accuracy: 0.9787\n",
            "Epoch 75/200\n",
            "10/10 [==============================] - 0s 2ms/step - loss: 0.0910 - accuracy: 0.9787\n",
            "Epoch 76/200\n",
            "10/10 [==============================] - 0s 3ms/step - loss: 0.0387 - accuracy: 1.0000\n",
            "Epoch 77/200\n",
            "10/10 [==============================] - 0s 3ms/step - loss: 0.0444 - accuracy: 0.9787\n",
            "Epoch 78/200\n",
            "10/10 [==============================] - 0s 3ms/step - loss: 0.1098 - accuracy: 0.9787\n",
            "Epoch 79/200\n",
            "10/10 [==============================] - 0s 4ms/step - loss: 0.0537 - accuracy: 0.9787\n",
            "Epoch 80/200\n",
            "10/10 [==============================] - 0s 3ms/step - loss: 0.0306 - accuracy: 1.0000\n",
            "Epoch 81/200\n",
            "10/10 [==============================] - 0s 2ms/step - loss: 0.0848 - accuracy: 0.9574\n",
            "Epoch 82/200\n",
            "10/10 [==============================] - 0s 2ms/step - loss: 0.0614 - accuracy: 0.9787\n",
            "Epoch 83/200\n",
            "10/10 [==============================] - 0s 2ms/step - loss: 0.0571 - accuracy: 0.9787\n",
            "Epoch 84/200\n",
            "10/10 [==============================] - 0s 2ms/step - loss: 0.0407 - accuracy: 1.0000\n",
            "Epoch 85/200\n",
            "10/10 [==============================] - 0s 2ms/step - loss: 0.0272 - accuracy: 1.0000\n",
            "Epoch 86/200\n",
            "10/10 [==============================] - 0s 3ms/step - loss: 0.0441 - accuracy: 1.0000\n",
            "Epoch 87/200\n",
            "10/10 [==============================] - 0s 2ms/step - loss: 0.0541 - accuracy: 1.0000\n",
            "Epoch 88/200\n",
            "10/10 [==============================] - 0s 2ms/step - loss: 0.0864 - accuracy: 0.9574\n",
            "Epoch 89/200\n",
            "10/10 [==============================] - 0s 2ms/step - loss: 0.0260 - accuracy: 1.0000\n",
            "Epoch 90/200\n",
            "10/10 [==============================] - 0s 2ms/step - loss: 0.1623 - accuracy: 0.9362\n",
            "Epoch 91/200\n",
            "10/10 [==============================] - 0s 3ms/step - loss: 0.0494 - accuracy: 1.0000\n",
            "Epoch 92/200\n",
            "10/10 [==============================] - 0s 2ms/step - loss: 0.0312 - accuracy: 1.0000\n",
            "Epoch 93/200\n",
            "10/10 [==============================] - 0s 2ms/step - loss: 0.1255 - accuracy: 0.9362\n",
            "Epoch 94/200\n",
            "10/10 [==============================] - 0s 4ms/step - loss: 0.0535 - accuracy: 1.0000\n",
            "Epoch 95/200\n",
            "10/10 [==============================] - 0s 4ms/step - loss: 0.0855 - accuracy: 0.9787\n",
            "Epoch 96/200\n",
            "10/10 [==============================] - 0s 3ms/step - loss: 0.0263 - accuracy: 1.0000\n",
            "Epoch 97/200\n",
            "10/10 [==============================] - 0s 4ms/step - loss: 0.1157 - accuracy: 0.9787\n",
            "Epoch 98/200\n",
            "10/10 [==============================] - 0s 3ms/step - loss: 0.0281 - accuracy: 1.0000\n",
            "Epoch 99/200\n",
            "10/10 [==============================] - 0s 3ms/step - loss: 0.0257 - accuracy: 1.0000\n",
            "Epoch 100/200\n",
            "10/10 [==============================] - 0s 3ms/step - loss: 0.0688 - accuracy: 1.0000\n",
            "Epoch 101/200\n",
            "10/10 [==============================] - 0s 3ms/step - loss: 0.2023 - accuracy: 0.9362\n",
            "Epoch 102/200\n",
            "10/10 [==============================] - 0s 2ms/step - loss: 0.0093 - accuracy: 1.0000\n",
            "Epoch 103/200\n",
            "10/10 [==============================] - 0s 3ms/step - loss: 0.0742 - accuracy: 0.9787\n",
            "Epoch 104/200\n",
            "10/10 [==============================] - 0s 4ms/step - loss: 0.0801 - accuracy: 0.9787\n",
            "Epoch 105/200\n",
            "10/10 [==============================] - 0s 2ms/step - loss: 0.0687 - accuracy: 0.9787\n",
            "Epoch 106/200\n",
            "10/10 [==============================] - 0s 3ms/step - loss: 0.0477 - accuracy: 1.0000\n",
            "Epoch 107/200\n",
            "10/10 [==============================] - 0s 2ms/step - loss: 0.0312 - accuracy: 1.0000\n",
            "Epoch 108/200\n",
            "10/10 [==============================] - 0s 3ms/step - loss: 0.0168 - accuracy: 1.0000\n",
            "Epoch 109/200\n",
            "10/10 [==============================] - 0s 3ms/step - loss: 0.0484 - accuracy: 1.0000\n",
            "Epoch 110/200\n",
            "10/10 [==============================] - 0s 3ms/step - loss: 0.0315 - accuracy: 1.0000\n",
            "Epoch 111/200\n",
            "10/10 [==============================] - 0s 3ms/step - loss: 0.0227 - accuracy: 1.0000\n",
            "Epoch 112/200\n",
            "10/10 [==============================] - 0s 3ms/step - loss: 0.0203 - accuracy: 1.0000\n",
            "Epoch 113/200\n",
            "10/10 [==============================] - 0s 4ms/step - loss: 0.0585 - accuracy: 1.0000\n",
            "Epoch 114/200\n",
            "10/10 [==============================] - 0s 3ms/step - loss: 0.0449 - accuracy: 0.9787\n",
            "Epoch 115/200\n",
            "10/10 [==============================] - 0s 4ms/step - loss: 0.0217 - accuracy: 1.0000\n",
            "Epoch 116/200\n",
            "10/10 [==============================] - 0s 3ms/step - loss: 0.0571 - accuracy: 0.9787\n",
            "Epoch 117/200\n",
            "10/10 [==============================] - 0s 2ms/step - loss: 0.0355 - accuracy: 1.0000\n",
            "Epoch 118/200\n",
            "10/10 [==============================] - 0s 3ms/step - loss: 0.0282 - accuracy: 1.0000\n",
            "Epoch 119/200\n",
            "10/10 [==============================] - 0s 2ms/step - loss: 0.0140 - accuracy: 1.0000\n",
            "Epoch 120/200\n",
            "10/10 [==============================] - 0s 2ms/step - loss: 0.0198 - accuracy: 1.0000\n",
            "Epoch 121/200\n",
            "10/10 [==============================] - 0s 2ms/step - loss: 0.0272 - accuracy: 1.0000\n",
            "Epoch 122/200\n",
            "10/10 [==============================] - 0s 2ms/step - loss: 0.0175 - accuracy: 1.0000\n",
            "Epoch 123/200\n",
            "10/10 [==============================] - 0s 3ms/step - loss: 0.0242 - accuracy: 1.0000\n",
            "Epoch 124/200\n",
            "10/10 [==============================] - 0s 4ms/step - loss: 0.0195 - accuracy: 1.0000\n",
            "Epoch 125/200\n",
            "10/10 [==============================] - 0s 3ms/step - loss: 0.0772 - accuracy: 0.9787\n",
            "Epoch 126/200\n",
            "10/10 [==============================] - 0s 2ms/step - loss: 0.0231 - accuracy: 1.0000\n",
            "Epoch 127/200\n",
            "10/10 [==============================] - 0s 5ms/step - loss: 0.0766 - accuracy: 0.9787\n",
            "Epoch 128/200\n",
            "10/10 [==============================] - 0s 2ms/step - loss: 0.0100 - accuracy: 1.0000\n",
            "Epoch 129/200\n",
            "10/10 [==============================] - 0s 3ms/step - loss: 0.0195 - accuracy: 1.0000\n",
            "Epoch 130/200\n",
            "10/10 [==============================] - 0s 3ms/step - loss: 0.0389 - accuracy: 0.9787\n",
            "Epoch 131/200\n",
            "10/10 [==============================] - 0s 3ms/step - loss: 0.0127 - accuracy: 1.0000\n",
            "Epoch 132/200\n",
            "10/10 [==============================] - 0s 3ms/step - loss: 0.0273 - accuracy: 1.0000\n",
            "Epoch 133/200\n",
            "10/10 [==============================] - 0s 2ms/step - loss: 0.0108 - accuracy: 1.0000\n",
            "Epoch 134/200\n",
            "10/10 [==============================] - 0s 3ms/step - loss: 0.0276 - accuracy: 1.0000\n",
            "Epoch 135/200\n",
            "10/10 [==============================] - 0s 4ms/step - loss: 0.0207 - accuracy: 1.0000\n",
            "Epoch 136/200\n",
            "10/10 [==============================] - 0s 2ms/step - loss: 0.0135 - accuracy: 1.0000\n",
            "Epoch 137/200\n",
            "10/10 [==============================] - 0s 3ms/step - loss: 0.0054 - accuracy: 1.0000\n",
            "Epoch 138/200\n",
            "10/10 [==============================] - 0s 3ms/step - loss: 0.0305 - accuracy: 0.9787\n",
            "Epoch 139/200\n",
            "10/10 [==============================] - 0s 3ms/step - loss: 0.0499 - accuracy: 0.9574\n",
            "Epoch 140/200\n",
            "10/10 [==============================] - 0s 2ms/step - loss: 0.0909 - accuracy: 0.9787\n",
            "Epoch 141/200\n",
            "10/10 [==============================] - 0s 2ms/step - loss: 0.0142 - accuracy: 1.0000\n",
            "Epoch 142/200\n",
            "10/10 [==============================] - 0s 2ms/step - loss: 0.0129 - accuracy: 1.0000\n",
            "Epoch 143/200\n",
            "10/10 [==============================] - 0s 3ms/step - loss: 0.0169 - accuracy: 1.0000\n",
            "Epoch 144/200\n",
            "10/10 [==============================] - 0s 3ms/step - loss: 0.0433 - accuracy: 0.9787\n",
            "Epoch 145/200\n",
            "10/10 [==============================] - 0s 3ms/step - loss: 0.0178 - accuracy: 1.0000\n",
            "Epoch 146/200\n",
            "10/10 [==============================] - 0s 2ms/step - loss: 0.0304 - accuracy: 1.0000\n",
            "Epoch 147/200\n",
            "10/10 [==============================] - 0s 2ms/step - loss: 0.0301 - accuracy: 1.0000\n",
            "Epoch 148/200\n",
            "10/10 [==============================] - 0s 2ms/step - loss: 0.0216 - accuracy: 1.0000\n",
            "Epoch 149/200\n",
            "10/10 [==============================] - 0s 2ms/step - loss: 0.0266 - accuracy: 0.9787\n",
            "Epoch 150/200\n",
            "10/10 [==============================] - 0s 2ms/step - loss: 0.0327 - accuracy: 1.0000\n",
            "Epoch 151/200\n",
            "10/10 [==============================] - 0s 3ms/step - loss: 0.0067 - accuracy: 1.0000\n",
            "Epoch 152/200\n",
            "10/10 [==============================] - 0s 2ms/step - loss: 0.0650 - accuracy: 0.9787\n",
            "Epoch 153/200\n",
            "10/10 [==============================] - 0s 3ms/step - loss: 0.0350 - accuracy: 0.9787\n",
            "Epoch 154/200\n",
            "10/10 [==============================] - 0s 3ms/step - loss: 0.0254 - accuracy: 1.0000\n",
            "Epoch 155/200\n",
            "10/10 [==============================] - 0s 3ms/step - loss: 0.0431 - accuracy: 1.0000\n",
            "Epoch 156/200\n",
            "10/10 [==============================] - 0s 6ms/step - loss: 0.0294 - accuracy: 1.0000\n",
            "Epoch 157/200\n",
            "10/10 [==============================] - 0s 3ms/step - loss: 0.0130 - accuracy: 1.0000\n",
            "Epoch 158/200\n",
            "10/10 [==============================] - 0s 3ms/step - loss: 0.0248 - accuracy: 1.0000\n",
            "Epoch 159/200\n",
            "10/10 [==============================] - 0s 3ms/step - loss: 0.0100 - accuracy: 1.0000\n",
            "Epoch 160/200\n",
            "10/10 [==============================] - 0s 2ms/step - loss: 0.0391 - accuracy: 1.0000\n",
            "Epoch 161/200\n",
            "10/10 [==============================] - 0s 3ms/step - loss: 0.0172 - accuracy: 1.0000\n",
            "Epoch 162/200\n",
            "10/10 [==============================] - 0s 4ms/step - loss: 0.0308 - accuracy: 0.9787\n",
            "Epoch 163/200\n",
            "10/10 [==============================] - 0s 3ms/step - loss: 0.0278 - accuracy: 1.0000\n",
            "Epoch 164/200\n",
            "10/10 [==============================] - 0s 3ms/step - loss: 0.0077 - accuracy: 1.0000\n",
            "Epoch 165/200\n",
            "10/10 [==============================] - 0s 2ms/step - loss: 0.0599 - accuracy: 0.9574\n",
            "Epoch 166/200\n",
            "10/10 [==============================] - 0s 3ms/step - loss: 0.0396 - accuracy: 0.9787\n",
            "Epoch 167/200\n",
            "10/10 [==============================] - 0s 2ms/step - loss: 0.0275 - accuracy: 0.9787\n",
            "Epoch 168/200\n",
            "10/10 [==============================] - 0s 2ms/step - loss: 0.0216 - accuracy: 1.0000\n",
            "Epoch 169/200\n",
            "10/10 [==============================] - 0s 2ms/step - loss: 0.0207 - accuracy: 1.0000\n",
            "Epoch 170/200\n",
            "10/10 [==============================] - 0s 2ms/step - loss: 0.0497 - accuracy: 1.0000\n",
            "Epoch 171/200\n",
            "10/10 [==============================] - 0s 2ms/step - loss: 0.0425 - accuracy: 0.9787\n",
            "Epoch 172/200\n",
            "10/10 [==============================] - 0s 3ms/step - loss: 0.0204 - accuracy: 1.0000\n",
            "Epoch 173/200\n",
            "10/10 [==============================] - 0s 3ms/step - loss: 0.0482 - accuracy: 0.9787\n",
            "Epoch 174/200\n",
            "10/10 [==============================] - 0s 3ms/step - loss: 0.0214 - accuracy: 1.0000\n",
            "Epoch 175/200\n",
            "10/10 [==============================] - 0s 2ms/step - loss: 0.0221 - accuracy: 1.0000\n",
            "Epoch 176/200\n",
            "10/10 [==============================] - 0s 3ms/step - loss: 0.0185 - accuracy: 1.0000\n",
            "Epoch 177/200\n",
            "10/10 [==============================] - 0s 2ms/step - loss: 0.0100 - accuracy: 1.0000\n",
            "Epoch 178/200\n",
            "10/10 [==============================] - 0s 2ms/step - loss: 0.0266 - accuracy: 1.0000\n",
            "Epoch 179/200\n",
            "10/10 [==============================] - 0s 2ms/step - loss: 0.0131 - accuracy: 1.0000\n",
            "Epoch 180/200\n",
            "10/10 [==============================] - 0s 2ms/step - loss: 0.0048 - accuracy: 1.0000\n",
            "Epoch 181/200\n",
            "10/10 [==============================] - 0s 2ms/step - loss: 0.0492 - accuracy: 1.0000\n",
            "Epoch 182/200\n",
            "10/10 [==============================] - 0s 3ms/step - loss: 0.0263 - accuracy: 1.0000\n",
            "Epoch 183/200\n",
            "10/10 [==============================] - 0s 2ms/step - loss: 0.0069 - accuracy: 1.0000\n",
            "Epoch 184/200\n",
            "10/10 [==============================] - 0s 3ms/step - loss: 0.0057 - accuracy: 1.0000\n",
            "Epoch 185/200\n",
            "10/10 [==============================] - 0s 3ms/step - loss: 0.0084 - accuracy: 1.0000\n",
            "Epoch 186/200\n",
            "10/10 [==============================] - 0s 3ms/step - loss: 0.0051 - accuracy: 1.0000\n",
            "Epoch 187/200\n",
            "10/10 [==============================] - 0s 2ms/step - loss: 0.0063 - accuracy: 1.0000\n",
            "Epoch 188/200\n",
            "10/10 [==============================] - 0s 2ms/step - loss: 0.0058 - accuracy: 1.0000\n",
            "Epoch 189/200\n",
            "10/10 [==============================] - 0s 2ms/step - loss: 0.0224 - accuracy: 1.0000\n",
            "Epoch 190/200\n",
            "10/10 [==============================] - 0s 3ms/step - loss: 0.0326 - accuracy: 0.9787\n",
            "Epoch 191/200\n",
            "10/10 [==============================] - 0s 3ms/step - loss: 0.0141 - accuracy: 1.0000\n",
            "Epoch 192/200\n",
            "10/10 [==============================] - 0s 2ms/step - loss: 0.0152 - accuracy: 1.0000\n",
            "Epoch 193/200\n",
            "10/10 [==============================] - 0s 2ms/step - loss: 0.0480 - accuracy: 0.9787\n",
            "Epoch 194/200\n",
            "10/10 [==============================] - 0s 2ms/step - loss: 0.0359 - accuracy: 0.9787\n",
            "Epoch 195/200\n",
            "10/10 [==============================] - 0s 3ms/step - loss: 0.0034 - accuracy: 1.0000\n",
            "Epoch 196/200\n",
            "10/10 [==============================] - 0s 3ms/step - loss: 0.0057 - accuracy: 1.0000\n",
            "Epoch 197/200\n",
            "10/10 [==============================] - 0s 2ms/step - loss: 0.0126 - accuracy: 1.0000\n",
            "Epoch 198/200\n",
            "10/10 [==============================] - 0s 2ms/step - loss: 0.0497 - accuracy: 0.9787\n",
            "Epoch 199/200\n",
            "10/10 [==============================] - 0s 2ms/step - loss: 0.0194 - accuracy: 1.0000\n",
            "Epoch 200/200\n",
            "10/10 [==============================] - 0s 2ms/step - loss: 0.0106 - accuracy: 1.0000\n",
            "model is created\n"
          ]
        }
      ]
    },
    {
      "cell_type": "code",
      "metadata": {
        "id": "NKh3-TajhWPf"
      },
      "source": [
        "time.sleep(1)\n",
        "import nltk\n",
        "from nltk.stem import WordNetLemmatizer\n",
        "lemmatizer = WordNetLemmatizer()\n",
        "import pickle\n",
        "import numpy as np"
      ],
      "execution_count": 8,
      "outputs": []
    },
    {
      "cell_type": "code",
      "metadata": {
        "id": "JnDD0XRTpvNa"
      },
      "source": [
        "time.sleep(1)\n",
        "from keras.models import load_model\n",
        "model = load_model('chatbot_model.h5')\n",
        "import json\n",
        "import random\n",
        "intents = json.loads(open('/content/drive/MyDrive/intents.json').read())\n",
        "words = pickle.load(open('words.pkl','rb'))\n",
        "classes = pickle.load(open('classes.pkl','rb'))"
      ],
      "execution_count": 9,
      "outputs": []
    },
    {
      "cell_type": "code",
      "metadata": {
        "id": "pteeWhTRrR_D"
      },
      "source": [
        "time.sleep(1)\n",
        "def clean_up_sentence(sentence):\n",
        "    # tokenize the pattern - splitting words into array\n",
        "    sentence_words = nltk.word_tokenize(sentence)\n",
        "    # stemming every word - reducing to base form\n",
        "    sentence_words = [lemmatizer.lemmatize(word.lower()) for word in sentence_words]\n",
        "    return sentence_words\n",
        "# return bag of words array: 0 or 1 for words that exist in sentence"
      ],
      "execution_count": 10,
      "outputs": []
    },
    {
      "cell_type": "code",
      "metadata": {
        "id": "ram9Tv8MrSBl"
      },
      "source": [
        "time.sleep(1)\n",
        "def bag_of_words(sentence, words, show_details=True):\n",
        "    # tokenizing patterns\n",
        "    sentence_words = clean_up_sentence(sentence)\n",
        "    # bag of words - vocabulary matrix\n",
        "    bag = [0]*len(words)  \n",
        "    for s in sentence_words:\n",
        "        for i,word in enumerate(words):\n",
        "            if word == s: \n",
        "                # assign 1 if current word is in the vocabulary position\n",
        "                bag[i] = 1\n",
        "                if show_details:\n",
        "                    print (\"found in bag: %s\" % word)\n",
        "    return(np.array(bag))"
      ],
      "execution_count": 11,
      "outputs": []
    },
    {
      "cell_type": "code",
      "metadata": {
        "id": "R_1qkW7grSEr"
      },
      "source": [
        "time.sleep(1)\n",
        "def predict_class(sentence):\n",
        "    # filter below  threshold predictions\n",
        "    p = bag_of_words(sentence, words,show_details=False)\n",
        "    res = model.predict(np.array([p]))[0]\n",
        "    ERROR_THRESHOLD = 0.25\n",
        "    results = [[i,r] for i,r in enumerate(res) if r>ERROR_THRESHOLD]\n",
        "    # sorting strength probability\n",
        "    results.sort(key=lambda x: x[1], reverse=True)\n",
        "    return_list = []\n",
        "    for r in results:\n",
        "        return_list.append({\"intent\": classes[r[0]], \"probability\": str(r[1])})\n",
        "    return return_list"
      ],
      "execution_count": 12,
      "outputs": []
    },
    {
      "cell_type": "code",
      "metadata": {
        "id": "AEzYR2ktrSMy"
      },
      "source": [
        "time.sleep(1)\n",
        "def getResponse(ints, intents_json):\n",
        "    tag = ints[0]['intent']\n",
        "    list_of_intents = intents_json['intents']\n",
        "    for i in list_of_intents:\n",
        "        if(i['tag']== tag):\n",
        "            result = random.choice(i['responses'])\n",
        "            break\n",
        "    return result"
      ],
      "execution_count": 13,
      "outputs": []
    },
    {
      "cell_type": "markdown",
      "metadata": {
        "id": "5KJIXlBhr6uB"
      },
      "source": [
        "Criando Tkinter GUI"
      ]
    },
    {
      "cell_type": "code",
      "metadata": {
        "colab": {
          "base_uri": "https://localhost:8080/"
        },
        "id": "3KF6Y9yUpvP5",
        "outputId": "6f9c34ed-33bb-4839-beea-4fa4e55b66c5"
      },
      "source": [
        "time.sleep(1)\n",
        "!apt-get install -y xvfb # Install X Virtual Frame Buffer\n",
        "import os\n",
        "os.system('Xvfb :1 -screen 0 1600x1200x16  &')    # create virtual display with size 1600x1200 and 16 bit color. Color can be changed to 24 or 8\n",
        "os.environ['DISPLAY']=':1.0'    # tell X clients to use our virtual DISPLAY :1.0."
      ],
      "execution_count": 14,
      "outputs": [
        {
          "output_type": "stream",
          "name": "stdout",
          "text": [
            "Reading package lists... Done\n",
            "Building dependency tree       \n",
            "Reading state information... Done\n",
            "The following NEW packages will be installed:\n",
            "  xvfb\n",
            "0 upgraded, 1 newly installed, 0 to remove and 37 not upgraded.\n",
            "Need to get 784 kB of archives.\n",
            "After this operation, 2,270 kB of additional disk space will be used.\n",
            "Get:1 http://archive.ubuntu.com/ubuntu bionic-updates/universe amd64 xvfb amd64 2:1.19.6-1ubuntu4.9 [784 kB]\n",
            "Fetched 784 kB in 1s (847 kB/s)\n",
            "Selecting previously unselected package xvfb.\n",
            "(Reading database ... 155047 files and directories currently installed.)\n",
            "Preparing to unpack .../xvfb_2%3a1.19.6-1ubuntu4.9_amd64.deb ...\n",
            "Unpacking xvfb (2:1.19.6-1ubuntu4.9) ...\n",
            "Setting up xvfb (2:1.19.6-1ubuntu4.9) ...\n",
            "Processing triggers for man-db (2.8.3-2ubuntu0.1) ...\n"
          ]
        }
      ]
    },
    {
      "cell_type": "code",
      "metadata": {
        "colab": {
          "base_uri": "https://localhost:8080/",
          "height": 35
        },
        "id": "_s4Tzgh7rSP6",
        "outputId": "9af50389-0fb9-4ad2-9c56-54ea867e9265"
      },
      "source": [
        "time.sleep(1)\n",
        "#Creating tkinter GUI\n",
        "import tkinter\n",
        "from tkinter import *\n",
        "\n",
        "def send():\n",
        "    msg = EntryBox.get(\"1.0\",'end-1c').strip()\n",
        "    EntryBox.delete(\"0.0\",END)\n",
        "\n",
        "    if msg != '':\n",
        "        ChatBox.config(state=NORMAL)\n",
        "        ChatBox.insert(END, \"You: \" + msg + '\\n\\n')\n",
        "        ChatBox.config(foreground=\"#446665\", font=(\"Verdana\", 12 )) \n",
        "\n",
        "        ints = predict_class(msg)\n",
        "        res = getResponse(ints, intents)    \n",
        "\n",
        "        ChatBox.insert(END, \"Bot: \" + res + '\\n\\n')  \n",
        "\n",
        "        ChatBox.config(state=DISABLED)\n",
        "        ChatBox.yview(END)\n",
        "\n",
        "root = Tk( )\n",
        "root.title(\"Chatbot\")\n",
        "root.geometry(\"400x500\")\n",
        "root.resizable(width=FALSE, height=FALSE)\n"
      ],
      "execution_count": 15,
      "outputs": [
        {
          "output_type": "execute_result",
          "data": {
            "application/vnd.google.colaboratory.intrinsic+json": {
              "type": "string"
            },
            "text/plain": [
              "''"
            ]
          },
          "metadata": {},
          "execution_count": 15
        }
      ]
    },
    {
      "cell_type": "markdown",
      "metadata": {
        "id": "k8ruJZCAtco1"
      },
      "source": [
        "Criando chat window"
      ]
    },
    {
      "cell_type": "code",
      "metadata": {
        "id": "q6OULsk3tb0X"
      },
      "source": [
        "time.sleep(1)\n",
        "#Create Chat window\n",
        "ChatBox = Text(root, bd=0, bg=\"white\", height=\"8\", width=\"50\", font=\"Arial\",)\n",
        "\n",
        "ChatBox.config(state=DISABLED)\n",
        "\n",
        "#Bind scrollbar to Chat window\n",
        "scrollbar = Scrollbar(root, command=ChatBox.yview, cursor=\"heart\")\n",
        "ChatBox['yscrollcommand'] = scrollbar.set\n",
        "\n",
        "#Create Button to send message\n",
        "SendButton = Button(root, font=(\"Verdana\",12,'bold'), text=\"Send\", width=\"12\", height=5,\n",
        "                    bd=0, bg=\"#f9a602\", activebackground=\"#3c9d9b\",fg='#000000',\n",
        "                    command= send )\n",
        "#Create the box to enter message\n",
        "EntryBox = Text(root, bd=0, bg=\"white\",width=\"29\", height=\"5\", font=\"Arial\")\n",
        "#EntryBox.bind(\"<Return>\", send)\n",
        "\n",
        "\n",
        "#Place all components on the screen\n",
        "scrollbar.place(x=376,y=6, height=386)\n",
        "ChatBox.place(x=6,y=6, height=386, width=370)\n",
        "EntryBox.place(x=128, y=401, height=90, width=265)\n",
        "SendButton.place(x=6, y=401, height=90)\n",
        "\n",
        "root.mainloop()"
      ],
      "execution_count": null,
      "outputs": []
    }
  ]
}